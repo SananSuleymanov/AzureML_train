{
  "cells": [
    {
      "cell_type": "markdown",
      "metadata": {
        "id": "view-in-github",
        "colab_type": "text"
      }
    },
    {
      "cell_type": "code",
      "execution_count": null,
      "id": "92a11020",
      "metadata": {
        "id": "92a11020",
        "outputId": "0143e6d2-b7e5-4804-de4b-ba007365e103"
      },
      "outputs": [
        {
          "name": "stdout",
          "output_type": "stream",
          "text": [
            "Ready to use 1.42.0, ml-azure\n"
          ]
        }
      ],
      "source": [
        "import azureml.core\n",
        "from azureml.core import Workspace\n",
        "\n",
        "ws = Workspace.from_config()\n",
        "\n",
        "print('Ready to use {}, {}'.format(azureml.core.VERSION, ws.name))"
      ]
    },
    {
      "cell_type": "code",
      "execution_count": null,
      "id": "ab9b2526",
      "metadata": {
        "id": "ab9b2526",
        "outputId": "bbe2a392-6015-4622-dd9b-78b5a4e98b72"
      },
      "outputs": [
        {
          "data": {
            "text/plain": [
              "'test-for/diabetes.csv'"
            ]
          },
          "execution_count": 2,
          "metadata": {},
          "output_type": "execute_result"
        }
      ],
      "source": [
        "import os, shutil\n",
        "\n",
        "train_1 = 'test-for'\n",
        "\n",
        "os.makedirs(train_1, exist_ok =True)\n",
        "shutil.copy('data/diabetes.csv', os.path.join(train_1, 'diabetes.csv'))"
      ]
    },
    {
      "cell_type": "code",
      "execution_count": null,
      "id": "77150a20",
      "metadata": {
        "id": "77150a20",
        "outputId": "459ed069-47f5-462f-9048-6a4b7df5868b"
      },
      "outputs": [
        {
          "name": "stdout",
          "output_type": "stream",
          "text": [
            "Overwriting test-for/diabetes_training.py\n"
          ]
        }
      ],
      "source": [
        "%%writefile $train_1/diabetes_training.py\n",
        "# Import libraries\n",
        "from azureml.core import Run\n",
        "import pandas as pd\n",
        "import numpy as np\n",
        "import joblib\n",
        "import os\n",
        "from sklearn.model_selection import train_test_split\n",
        "from sklearn.linear_model import LogisticRegression\n",
        "from sklearn.metrics import roc_auc_score\n",
        "from sklearn.metrics import roc_curve\n",
        "\n",
        "# Get the experiment run context\n",
        "run = Run.get_context()\n",
        "\n",
        "# load the diabetes dataset\n",
        "print(\"Loading Data...\")\n",
        "diabetes = pd.read_csv('diabetes.csv')\n",
        "\n",
        "# Separate features and labels\n",
        "X, y = diabetes[['Pregnancies','PlasmaGlucose','DiastolicBloodPressure','TricepsThickness','SerumInsulin','BMI','DiabetesPedigree','Age']].values, diabetes['Diabetic'].values\n",
        "\n",
        "# Split data into training set and test set\n",
        "X_train, X_test, y_train, y_test = train_test_split(X, y, test_size=0.30, random_state=0)\n",
        "\n",
        "# Set regularization hyperparameter\n",
        "reg = 0.01\n",
        "\n",
        "# Train a logistic regression model\n",
        "print('Training a logistic regression model with regularization rate of', reg)\n",
        "run.log('Regularization Rate',  np.float(reg))\n",
        "model = LogisticRegression(C=1/reg, solver=\"liblinear\").fit(X_train, y_train)\n",
        "\n",
        "# calculate accuracy\n",
        "y_hat = model.predict(X_test)\n",
        "acc = np.average(y_hat == y_test)\n",
        "print('Accuracy:', acc)\n",
        "run.log('Accuracy', np.float(acc))\n",
        "\n",
        "# calculate AUC\n",
        "y_scores = model.predict_proba(X_test)\n",
        "auc = roc_auc_score(y_test,y_scores[:,1])\n",
        "print('AUC: ' + str(auc))\n",
        "run.log('AUC', np.float(auc))\n",
        "\n",
        "# Save the trained model in the outputs folder\n",
        "os.makedirs('outputs', exist_ok=True)\n",
        "joblib.dump(value=model, filename='outputs/diabetes_model.pkl')\n",
        "\n",
        "run.complete()"
      ]
    },
    {
      "cell_type": "code",
      "execution_count": null,
      "id": "0ff0f389",
      "metadata": {
        "id": "0ff0f389"
      },
      "outputs": [],
      "source": [
        ""
      ]
    },
    {
      "cell_type": "code",
      "execution_count": null,
      "id": "b7725270",
      "metadata": {
        "id": "b7725270"
      },
      "outputs": [],
      "source": [
        "from azureml.core import Experiment, ScriptRunConfig, Environment\n",
        "from azureml.core.runconfig import DockerConfiguration\n",
        "from azureml.widgets import RunDetails\n",
        "\n",
        "env = Environment.from_conda_specification('experiment', 'environment.yml')\n",
        "\n",
        "script_config = ScriptRunConfig(source_directory = train_1,\n",
        "                               script = 'diabetes_training.py',\n",
        "                               environment = env,\n",
        "                               docker_runtime_config = DockerConfiguration(use_docker=True))\n",
        "\n",
        "experiment_name = 'trial_experiment'\n",
        "experiment =Experiment(workspace=ws, name=experiment_name)\n",
        "run = experiment.submit(config=script_config)\n",
        "\n",
        "RunDetails(run).show()\n",
        "run.wait_for_completion()"
      ]
    },
    {
      "cell_type": "code",
      "execution_count": null,
      "id": "c1013899",
      "metadata": {
        "id": "c1013899"
      },
      "outputs": [],
      "source": [
        "\n",
        "metrics = run.get_metrics()\n",
        "\n",
        "for key in metrics.keys():\n",
        "    print(key, metrics.get(key))\n",
        "    \n",
        "for file in run.get_file_names():\n",
        "    print(file)"
      ]
    },
    {
      "cell_type": "code",
      "execution_count": null,
      "id": "8fba668d",
      "metadata": {
        "scrolled": true,
        "id": "8fba668d",
        "outputId": "6f69f19b-c694-46d6-b71d-3dd41e4d557c"
      },
      "outputs": [
        {
          "name": "stdout",
          "output_type": "stream",
          "text": [
            "diabetes_model version:  3\n",
            "\t Training context : Script\n",
            "\t AUC : 0.8483441962286681\n",
            "\t Accuracy : 0.774\n",
            "\n",
            "\n",
            "diabetes_model version:  2\n",
            "\t Training context : Script\n",
            "\t AUC : 0.8483441962286681\n",
            "\t Accuracy : 0.774\n",
            "\n",
            "\n",
            "diabetes_model version:  1\n",
            "\t Training context : Script\n",
            "\t AUC : 0.8483441962286681\n",
            "\t Accuracy : 0.774\n",
            "\n",
            "\n"
          ]
        }
      ],
      "source": [
        "from azureml.core import Model\n",
        "\n",
        "model = run.register_model(model_path='outputs/diabetes_model.pkl', model_name='diabetes_model',\n",
        "                   tags={'Training context':'Script'},\n",
        "                   properties={'AUC': run.get_metrics()['AUC'], 'Accuracy': run.get_metrics()['Accuracy']})\n",
        "\n",
        "for model in Model.list(ws):\n",
        "    print(model.name, 'version: ', model.version)\n",
        "    for tag_name in model.tags:\n",
        "        tag = model.tags[tag_name]\n",
        "        print('\\t', tag_name, ':', tag)\n",
        "    for properties_name in model.properties:\n",
        "        properties = model.properties[properties_name]\n",
        "        print('\\t', properties_name, ':', properties)\n",
        "    print('\\n')"
      ]
    },
    {
      "cell_type": "code",
      "execution_count": null,
      "id": "cb490a98",
      "metadata": {
        "id": "cb490a98"
      },
      "outputs": [],
      "source": [
        ""
      ]
    },
    {
      "cell_type": "code",
      "execution_count": null,
      "id": "7abd8d8c",
      "metadata": {
        "id": "7abd8d8c"
      },
      "outputs": [],
      "source": [
        ""
      ]
    },
    {
      "cell_type": "code",
      "execution_count": null,
      "id": "28556c34",
      "metadata": {
        "id": "28556c34",
        "outputId": "dccaab8c-e54d-4a92-a1dc-124b9a856e7e"
      },
      "outputs": [
        {
          "name": "stdout",
          "output_type": "stream",
          "text": [
            "Overwriting test-for/diabetes_training_ar.py\n"
          ]
        }
      ],
      "source": [
        "%%writefile $train_1/diabetes_training_ar.py\n",
        "# Import libraries\n",
        "from azureml.core import Run\n",
        "import pandas as pd\n",
        "import numpy as np\n",
        "import joblib\n",
        "import os\n",
        "import argparse\n",
        "from sklearn.model_selection import train_test_split\n",
        "from sklearn.linear_model import LogisticRegression\n",
        "from sklearn.metrics import roc_auc_score\n",
        "from sklearn.metrics import roc_curve\n",
        "\n",
        "# Get the experiment run context\n",
        "run = Run.get_context()\n",
        "\n",
        "# load the diabetes dataset\n",
        "print(\"Loading Data...\")\n",
        "diabetes = pd.read_csv('diabetes.csv')\n",
        "\n",
        "argparser = argparse.ArgumentParser()\n",
        "argparser.add_argument('--reg_rate', type = float, dest = 'reg', default=0.01)\n",
        "args = argparser.parse_args()\n",
        "reg = args.reg\n",
        "\n",
        "# Separate features and labels\n",
        "X, y = diabetes[['Pregnancies','PlasmaGlucose','DiastolicBloodPressure','TricepsThickness','SerumInsulin','BMI','DiabetesPedigree','Age']].values, diabetes['Diabetic'].values\n",
        "\n",
        "# Split data into training set and test set\n",
        "X_train, X_test, y_train, y_test = train_test_split(X, y, test_size=0.30, random_state=0)\n",
        "\n",
        "\n",
        "# Train a logistic regression model\n",
        "print('Training a logistic regression model with regularization rate of', reg)\n",
        "run.log('Regularization Rate',  np.float(reg))\n",
        "model = LogisticRegression(C=1/reg, solver=\"liblinear\").fit(X_train, y_train)\n",
        "\n",
        "# calculate accuracy\n",
        "y_hat = model.predict(X_test)\n",
        "acc = np.average(y_hat == y_test)\n",
        "print('Accuracy:', acc)\n",
        "run.log('Accuracy', np.float(acc))\n",
        "\n",
        "# calculate AUC\n",
        "y_scores = model.predict_proba(X_test)\n",
        "auc = roc_auc_score(y_test,y_scores[:,1])\n",
        "print('AUC: ' + str(auc))\n",
        "run.log('AUC', np.float(auc))\n",
        "\n",
        "# Save the trained model in the outputs folder\n",
        "os.makedirs('outputs', exist_ok=True)\n",
        "joblib.dump(value=model, filename='outputs/diabetes_model.pkl')\n",
        "\n",
        "run.complete()"
      ]
    },
    {
      "cell_type": "code",
      "execution_count": null,
      "id": "072ee107",
      "metadata": {
        "id": "072ee107"
      },
      "outputs": [],
      "source": [
        "from azureml.core import Experiment, ScriptRunConfig, Environment\n",
        "from azureml.core.runconfig import DockerConfiguration\n",
        "from azureml.widgets import RunDetails\n",
        "\n",
        "env = Environment.from_conda_specification('experiment', 'environment.yml')\n",
        "\n",
        "script_config = ScriptRunConfig(source_directory = train_1,\n",
        "                               script = 'diabetes_training_ar.py',\n",
        "                                arguments = ['--reg_rate', 0.1],\n",
        "                               environment = env,\n",
        "                               docker_runtime_config = DockerConfiguration(use_docker=True))\n",
        "\n",
        "experiment_name = 'trial_experiment_ar'\n",
        "experiment =Experiment(workspace=ws, name=experiment_name)\n",
        "run = experiment.submit(config=script_config)\n",
        "\n",
        "RunDetails(run).show()\n",
        "run.wait_for_completion()"
      ]
    },
    {
      "cell_type": "code",
      "execution_count": null,
      "id": "e8d92644",
      "metadata": {
        "id": "e8d92644",
        "outputId": "786d640e-b137-48b0-db1a-fea82cd04265"
      },
      "outputs": [
        {
          "name": "stdout",
          "output_type": "stream",
          "text": [
            "Regularization Rate 0.1\n",
            "Accuracy 0.774\n",
            "AUC 0.8484377332205582\n",
            "azureml-logs/60_control_log.txt\n",
            "azureml-logs/70_driver_log.txt\n",
            "logs/azureml/8_azureml.log\n",
            "outputs/diabetes_model.pkl\n"
          ]
        }
      ],
      "source": [
        "metrics = run.get_metrics()\n",
        "\n",
        "for key in metrics.keys():\n",
        "    print(key, metrics.get(key))\n",
        "    \n",
        "for file in run.get_file_names():\n",
        "    print(file)"
      ]
    },
    {
      "cell_type": "code",
      "execution_count": null,
      "id": "48a8194f",
      "metadata": {
        "id": "48a8194f",
        "outputId": "a066eea8-c163-49ac-b9fe-52a488ea1d0a"
      },
      "outputs": [
        {
          "name": "stdout",
          "output_type": "stream",
          "text": [
            "diabetes_model version:  4\n",
            "\t Training context : Script\n",
            "\t AUC : 0.8484377332205582\n",
            "\t Accuracy : 0.774\n",
            "\n",
            "\n",
            "diabetes_model version:  3\n",
            "\t Training context : Script\n",
            "\t AUC : 0.8483441962286681\n",
            "\t Accuracy : 0.774\n",
            "\n",
            "\n",
            "diabetes_model version:  2\n",
            "\t Training context : Script\n",
            "\t AUC : 0.8483441962286681\n",
            "\t Accuracy : 0.774\n",
            "\n",
            "\n",
            "diabetes_model version:  1\n",
            "\t Training context : Script\n",
            "\t AUC : 0.8483441962286681\n",
            "\t Accuracy : 0.774\n",
            "\n",
            "\n"
          ]
        }
      ],
      "source": [
        "from azureml.core import Model\n",
        "\n",
        "model = run.register_model(model_path='outputs/diabetes_model.pkl', model_name='diabetes_model',\n",
        "                   tags={'Training context':'Script'},\n",
        "                   properties={'AUC': run.get_metrics()['AUC'], 'Accuracy': run.get_metrics()['Accuracy']})\n",
        "\n",
        "for model in Model.list(ws):\n",
        "    print(model.name, 'version: ', model.version)\n",
        "    for tag_name in model.tags:\n",
        "        tag = model.tags[tag_name]\n",
        "        print('\\t', tag_name, ':', tag)\n",
        "    for properties_name in model.properties:\n",
        "        properties = model.properties[properties_name]\n",
        "        print('\\t', properties_name, ':', properties)\n",
        "    print('\\n')"
      ]
    }
  ],
  "metadata": {
    "kernelspec": {
      "display_name": "Python 3 (ipykernel)",
      "language": "python",
      "name": "python3"
    },
    "language_info": {
      "codemirror_mode": {
        "name": "ipython",
        "version": 3
      },
      "file_extension": ".py",
      "mimetype": "text/x-python",
      "name": "python",
      "nbconvert_exporter": "python",
      "pygments_lexer": "ipython3",
      "version": "3.8.5"
    },
    "colab": {
      "name": "test.ipynb",
      "provenance": [],
      "include_colab_link": true
    }
  },
  "nbformat": 4,
  "nbformat_minor": 5
}
